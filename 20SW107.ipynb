{
  "nbformat": 4,
  "nbformat_minor": 0,
  "metadata": {
    "colab": {
      "provenance": []
    },
    "kernelspec": {
      "name": "python3",
      "display_name": "Python 3"
    },
    "language_info": {
      "name": "python"
    }
  },
  "cells": [
    {
      "cell_type": "code",
      "execution_count": 2,
      "metadata": {
        "id": "edEwvUpcACt7",
        "colab": {
          "base_uri": "https://localhost:8080/"
        },
        "cellView": "code",
        "outputId": "74bf12d6-1642-4c2d-8a22-d687d211faa8"
      },
      "outputs": [
        {
          "output_type": "stream",
          "name": "stdout",
          "text": [
            "42\n",
            "20\n",
            "3\n",
            "42.0\n",
            "[1, 2, 3]\n",
            "[1, 2, 3]\n",
            "{'name': 'Daniyal', 'age': 20}\n",
            "{'name': 'Daniyal', 'age': 20}\n",
            "{'1', '3', '4', '2'}\n",
            "[1, 2, 3, 4]\n"
          ]
        }
      ],
      "source": [
        "#@title Default title text\n",
        "#Conversions\n",
        "name = \"  Daniyal\"\n",
        "age_str = \"20\"\n",
        "city = \"Hyderabad\"\n",
        "\n",
        "# Integer to String\n",
        "number = 42\n",
        "string = str(number)\n",
        "print(string)\n",
        "\n",
        "# String to Integer\n",
        "number = int(age_str)\n",
        "print(number)\n",
        "\n",
        "# Float to Integer\n",
        "float_num = 3.14\n",
        "integer_num = int(float_num)\n",
        "print(integer_num)\n",
        "\n",
        "# Integer to Float\n",
        "integer_num = 42\n",
        "float_num = float(integer_num)\n",
        "print(float_num)\n",
        "\n",
        "# List to String\n",
        "my_list = [1, 2, 3]\n",
        "string = str(my_list)\n",
        "print(string)\n",
        "\n",
        "# String to List\n",
        "string = \"[1, 2, 3]\"\n",
        "my_list = list(eval(string))\n",
        "print(my_list)\n",
        "\n",
        "# String to Dictionary\n",
        "string = '{\"name\": \"Daniyal\", \"age\": 20}'\n",
        "my_dict = eval(string)\n",
        "print(my_dict)\n",
        "\n",
        "# Dictionary to String\n",
        "my_dict = {\"name\": \"Daniyal\", \"age\": 20}\n",
        "string = str(my_dict)\n",
        "print(string)\n",
        "\n",
        "# String to Set\n",
        "string = \"1, 2, 3, 4\"\n",
        "my_set = set(string.split(\", \"))\n",
        "print(my_set)\n",
        "\n",
        "# Set to List\n",
        "my_set = {1, 2, 3, 4}\n",
        "my_list = list(my_set)\n",
        "print(my_list)\n",
        "\n"
      ]
    },
    {
      "cell_type": "code",
      "source": [
        "#Container Types\n",
        "# Lists\n",
        "list = [1, 2, 'hiii', 3.14]\n",
        "print(list)\n",
        "\n",
        "# Tuples\n",
        "tuple = (1, 2, 'hello', 3.14)\n",
        "print(tuple)\n",
        "\n",
        "# Sets\n",
        "my_set = {1, 2, 3, 4}\n",
        "print(my_set)\n",
        "\n",
        "# Dictionaries\n",
        "dict = {'name': 'Daniyal', 'age': 20, 'city': 'Hyderabad'}\n",
        "print(dict)\n",
        "\n",
        "# Strings\n",
        "string = 'Hii, Daniyal'\n",
        "print(string)"
      ],
      "metadata": {
        "colab": {
          "base_uri": "https://localhost:8080/"
        },
        "id": "Spls_yUkDH18",
        "outputId": "ed9469b6-cfb3-4a7f-b0ed-417310741c06"
      },
      "execution_count": 3,
      "outputs": [
        {
          "output_type": "stream",
          "name": "stdout",
          "text": [
            "[1, 2, 'hiii', 3.14]\n",
            "(1, 2, 'hello', 3.14)\n",
            "{1, 2, 3, 4}\n",
            "{'name': 'Daniyal', 'age': 20, 'city': 'Hyderabad'}\n",
            "Hii, Daniyal\n"
          ]
        }
      ]
    },
    {
      "cell_type": "code",
      "source": [
        "#Loops\n",
        "# for loop\n",
        "fruits = ['apple', 'banana', 'cherry']\n",
        "for fruit in fruits:\n",
        "    print(fruit)\n",
        "\n",
        "\n",
        "# while loop\n",
        "count = 0\n",
        "while count < 5:\n",
        "    print(count)\n",
        "    count += 1\n",
        "\n",
        "\n",
        "# Loop control statements\n",
        "fruits = ['apple', 'banana', 'cherry']\n",
        "for fruit in fruits:\n",
        "    if fruit == 'banana':\n",
        "        break\n",
        "    print(fruit)\n",
        "\n",
        "\n",
        "for i in range(5):\n",
        "    if i == 2:\n",
        "        continue\n",
        "    print(i)\n"
      ],
      "metadata": {
        "colab": {
          "base_uri": "https://localhost:8080/"
        },
        "id": "bzpUhPdEDX1n",
        "outputId": "816dbe4f-1491-476e-e010-5f56070b5779"
      },
      "execution_count": 4,
      "outputs": [
        {
          "output_type": "stream",
          "name": "stdout",
          "text": [
            "apple\n",
            "banana\n",
            "cherry\n",
            "0\n",
            "1\n",
            "2\n",
            "3\n",
            "4\n",
            "apple\n",
            "0\n",
            "1\n",
            "3\n",
            "4\n"
          ]
        }
      ]
    },
    {
      "cell_type": "code",
      "source": [
        "#Functions\n",
        "# Function without parameters\n",
        "def greet():\n",
        "    print(\"Hello, world!\")\n",
        "\n",
        "# Function with parameters\n",
        "def add_numbers(a, b):\n",
        "    return a + b\n",
        "\n",
        "# Function with default parameter\n",
        "def multiply_numbers(a, b=2):\n",
        "    return a * b\n",
        "\n",
        "# Function with variable number of arguments\n",
        "def concatenate_strings(*args):\n",
        "    return ' '.join(args)\n",
        "\n",
        "# Function with keyword arguments\n",
        "def person_details(name, age, city):\n",
        "    print(\"Name:\", name)\n",
        "    print(\"Age:\", age)\n",
        "    print(\"City:\", city)\n",
        "\n",
        "# Calling functions\n",
        "greet()\n",
        "result = add_numbers(3, 5)\n",
        "print(result)\n",
        "\n",
        "result = multiply_numbers(4)\n",
        "print(result)\n"
      ],
      "metadata": {
        "colab": {
          "base_uri": "https://localhost:8080/"
        },
        "id": "6Oi6S6NkDfIJ",
        "outputId": "0de09d0a-a5a7-4231-ba10-5430fc9ed1b9"
      },
      "execution_count": 5,
      "outputs": [
        {
          "output_type": "stream",
          "name": "stdout",
          "text": [
            "Hello, world!\n",
            "8\n",
            "8\n"
          ]
        }
      ]
    }
  ]
}