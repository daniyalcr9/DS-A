{
  "nbformat": 4,
  "nbformat_minor": 0,
  "metadata": {
    "colab": {
      "provenance": [],
      "authorship_tag": "ABX9TyPnEigcG5p6o0JEOFJ9so2+",
      "include_colab_link": true
    },
    "kernelspec": {
      "name": "python3",
      "display_name": "Python 3"
    },
    "language_info": {
      "name": "python"
    }
  },
  "cells": [
    {
      "cell_type": "markdown",
      "metadata": {
        "id": "view-in-github",
        "colab_type": "text"
      },
      "source": [
        "<a href=\"https://colab.research.google.com/github/daniyalcr9/SDandA/blob/main/20SW107_LAB3.ipynb\" target=\"_parent\"><img src=\"https://colab.research.google.com/assets/colab-badge.svg\" alt=\"Open In Colab\"/></a>"
      ]
    },
    {
      "cell_type": "code",
      "execution_count": 1,
      "metadata": {
        "colab": {
          "base_uri": "https://localhost:8080/"
        },
        "id": "wb1AJHpGyn3E",
        "outputId": "3527e4da-ce29-4ed0-b709-af1773b5d5eb"
      },
      "outputs": [
        {
          "output_type": "stream",
          "name": "stdout",
          "text": [
            "20.0\n"
          ]
        }
      ],
      "source": [
        "def population_density(population, land_area):\n",
        "    if land_area == 0:\n",
        "        raise ValueError(\"Land area cannot be zero.\")\n",
        "    return population / land_area\n",
        "\n",
        "\n",
        "print(population_density(1000, 50))"
      ]
    },
    {
      "cell_type": "code",
      "source": [
        "def readable_timedelta(days):\n",
        "    w = days // 7\n",
        "    remaining_days = days % 7\n",
        "    return f\"{w} week(s) and {remaining_days} day(s)\"\n",
        "\n",
        "# Test cases\n",
        "print(readable_timedelta(10))"
      ],
      "metadata": {
        "colab": {
          "base_uri": "https://localhost:8080/"
        },
        "id": "0rRhBAotzm8d",
        "outputId": "af7bb90c-8c2b-4da3-cc20-99784732bf1a"
      },
      "execution_count": 4,
      "outputs": [
        {
          "output_type": "stream",
          "name": "stdout",
          "text": [
            "1 week(s) and 3 day(s)\n"
          ]
        }
      ]
    },
    {
      "cell_type": "code",
      "source": [
        "numbers = [[1, 2, 3], [4, 5, 6], [7, 8, 9]]\n",
        "\n",
        "# Using map() to calculate the mean of each list and create the list averages\n",
        "averages = list(map(lambda lst: sum(lst) / len(lst), numbers))\n",
        "\n",
        "print(averages)  # Output: [2.0, 5.0, 8.0]"
      ],
      "metadata": {
        "colab": {
          "base_uri": "https://localhost:8080/"
        },
        "id": "tbLUosXf1TsL",
        "outputId": "f3dbfeac-8281-4eca-ede4-badcbfc81fdd"
      },
      "execution_count": 5,
      "outputs": [
        {
          "output_type": "stream",
          "name": "stdout",
          "text": [
            "[2.0, 5.0, 8.0]\n"
          ]
        }
      ]
    },
    {
      "cell_type": "code",
      "source": [
        "cities = [\"New York City\", \"Los Angeles\", \"Chicago\", \"Mountain View\", \"Denver\", \"Boston\"]\n",
        "\n",
        "# Using lambda expression within filter() to filter short names\n",
        "short_cities = list(filter(lambda name: len(name) < 10, cities))\n",
        "\n",
        "print(short_cities)\n"
      ],
      "metadata": {
        "colab": {
          "base_uri": "https://localhost:8080/"
        },
        "id": "qQEGpgMr7HG-",
        "outputId": "220d5a0b-ed39-4a4f-b9e1-93b61448dfd2"
      },
      "execution_count": 6,
      "outputs": [
        {
          "output_type": "stream",
          "name": "stdout",
          "text": [
            "['Chicago', 'Denver', 'Boston']\n"
          ]
        }
      ]
    },
    {
      "cell_type": "code",
      "source": [
        "#TASK 5\n",
        "\n",
        "# Get and process input for a list of names\n",
        "names_input = input(\"Enter a list of student names separated by commas: \")\n",
        "names = names_input.split(\",\")\n",
        "\n",
        "# Get and process input for a list of the number of missing assignments\n",
        "assignments_input = input(\"Enter a list of the number of missing assignments separated by commas: \")\n",
        "assignments = list(map(int, assignments_input.split(\",\")))\n",
        "\n",
        "# Get and process input for a list of grades\n",
        "grades_input = input(\"Enter a list of grades separated by commas: \")\n",
        "grades = list(map(float, grades_input.split(\",\")))\n",
        "\n",
        "# Message string to be used for each student\n",
        "# HINT: use .format() with this string in your for loop\n",
        "message = \"Hi {},\\n\\nThis is a reminder that you have {} assignments left to submit before you can graduate. Your current grade is {} and can increase to {} if you submit all assignments before the due date.\\n\\n\"\n",
        "\n",
        "# Write a for loop that iterates through each set of names, assignments, and grades to print each student's message\n",
        "for name, missing_assignments, grade in zip(names, assignments, grades):\n",
        "    potential_grade = grade + 2 * missing_assignments\n",
        "    print(message.format(name, missing_assignments, grade, potential_grade))"
      ],
      "metadata": {
        "colab": {
          "base_uri": "https://localhost:8080/"
        },
        "id": "AM13KYkk7Iq2",
        "outputId": "90d6e4c6-f78b-47e6-987c-3c24a5c9a8d6"
      },
      "execution_count": 8,
      "outputs": [
        {
          "output_type": "stream",
          "name": "stdout",
          "text": [
            "Enter a list of student names separated by commas: Daniyal\n",
            "Enter a list of the number of missing assignments separated by commas: 1\n",
            "Enter a list of grades separated by commas: 3\n",
            "Hi Daniyal,\n",
            "\n",
            "This is a reminder that you have 1 assignments left to submit before you can graduate. Your current grade is 3.0 and can increase to 5.0 if you submit all assignments before the due date.\n",
            "\n",
            "\n"
          ]
        }
      ]
    },
    {
      "cell_type": "code",
      "source": [
        "#TASK 6\n",
        "\n",
        "camelot_lines = []\n",
        "\n",
        "with open(\"camelot.txt\") as f:\n",
        "  for line in f:camelot_lines.append(line.strip())\n",
        "  print(camelot_lines)"
      ],
      "metadata": {
        "id": "SFOAq1d38D5N"
      },
      "execution_count": null,
      "outputs": []
    },
    {
      "cell_type": "code",
      "source": [
        "#TASK 7\n",
        "\n",
        "def create_cast_list(filename):\n",
        "    cast_list = []\n",
        "    with open(filename, 'r') as file:\n",
        "        for line in file:\n",
        "            # Split each line by comma and take the first element (actor's name)\n",
        "            actor_name = line.strip().split(',')[0]\n",
        "            cast_list.append(actor_name)\n",
        "    return cast_list\n",
        "\n",
        "cast_list = create_cast_list('flying_circus_cast.txt')\n",
        "for actor in cast_list:\n",
        "    print(actor)"
      ],
      "metadata": {
        "id": "mYyiFoEN8Hpx"
      },
      "execution_count": null,
      "outputs": []
    }
  ]
}