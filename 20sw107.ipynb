{
  "nbformat": 4,
  "nbformat_minor": 0,
  "metadata": {
    "colab": {
      "provenance": [],
      "authorship_tag": "ABX9TyMGJBGq05cQLdSnfDj/gwjg",
      "include_colab_link": true
    },
    "kernelspec": {
      "name": "python3",
      "display_name": "Python 3"
    },
    "language_info": {
      "name": "python"
    }
  },
  "cells": [
    {
      "cell_type": "markdown",
      "metadata": {
        "id": "view-in-github",
        "colab_type": "text"
      },
      "source": [
        "<a href=\"https://colab.research.google.com/github/daniyalcr9/SDandA/blob/main/20sw107.ipynb\" target=\"_parent\"><img src=\"https://colab.research.google.com/assets/colab-badge.svg\" alt=\"Open In Colab\"/></a>"
      ]
    },
    {
      "cell_type": "code",
      "execution_count": 8,
      "metadata": {
        "id": "s26izuR1odmk",
        "colab": {
          "base_uri": "https://localhost:8080/"
        },
        "outputId": "ded12b95-907a-450d-9288-acd796921dd3"
      },
      "outputs": [
        {
          "output_type": "stream",
          "name": "stdout",
          "text": [
            "Enter Your Points:3\n",
            "Prize:Wooden Rabbit\n"
          ]
        }
      ],
      "source": [
        "\n",
        "points=int(input(\"Enter Your Points:\"));\n",
        "\n",
        "if  points>=1 and points<=50:\n",
        "  print(\"Prize:Wooden Rabbit\");\n",
        "\n",
        "elif points >=51 and points<=150:\n",
        "  print(\"Prize:No Prize\");\n",
        "elif points >=151 and points<=180:\n",
        "  print(\"Prize:Water Thin Mint\");\n",
        "elif points >=181 and points<=200:\n",
        "  print(\"Prize:Penguin\");5\n"
      ]
    },
    {
      "cell_type": "code",
      "source": [
        "answer=5;\n",
        "\n",
        "guess=int(input(\"Enter You guess\"));\n",
        "\n",
        "if guess < answer:\n",
        "    print(\"Your guess is too low.\")\n",
        "elif guess > answer:\n",
        "    print(\"Your guess is too high.\")\n",
        "else:\n",
        "    print(\"Congratulations! Your guess is correct.\")\n",
        "\n"
      ],
      "metadata": {
        "colab": {
          "base_uri": "https://localhost:8080/"
        },
        "id": "bwYvs8y_BArR",
        "outputId": "dca79d47-19ca-4837-c526-83f9056b636d"
      },
      "execution_count": 9,
      "outputs": [
        {
          "output_type": "stream",
          "name": "stdout",
          "text": [
            "Enter You guess4\n",
            "Your guess is too low.\n"
          ]
        }
      ]
    },
    {
      "cell_type": "code",
      "source": [
        "def calculate_tax(amount, state):\n",
        "    # Define the tax rates for each state\n",
        "    tax_rates = {\n",
        "        'CA': 0.075,\n",
        "        'MN': 0.095,\n",
        "        'NY': 0.089\n",
        "    }\n",
        "\n",
        "    # Check if the state is in the tax_rates dictionary\n",
        "    if state in tax_rates:\n",
        "        tax_rate = tax_rates[state]\n",
        "        tax_amount = amount * tax_rate\n",
        "        total_amount = amount + tax_amount\n",
        "        return total_amount\n",
        "    else:\n",
        "        print(\"Invalid state code. Cannot calculate tax.\")\n",
        "        return None\n",
        "\n",
        "# Test the function\n",
        "purchase_amount = float(input(\"Enter the purchase amount: \"))\n",
        "state_code = input(\"Enter the state code (CA, MN, or NY): \")\n",
        "\n",
        "total_amount_with_tax = calculate_tax(purchase_amount, state_code)\n",
        "if total_amount_with_tax is not None:\n",
        "    print(f\"Total amount with tax: ${total_amount_with_tax:.2f}\")\n"
      ],
      "metadata": {
        "colab": {
          "base_uri": "https://localhost:8080/"
        },
        "id": "9VQea42SBEa-",
        "outputId": "ad75adce-0c73-49b0-f762-54202fff2e15"
      },
      "execution_count": 10,
      "outputs": [
        {
          "output_type": "stream",
          "name": "stdout",
          "text": [
            "Enter the purchase amount: 23\n",
            "Enter the state code (CA, MN, or NY): 2\n",
            "Invalid state code. Cannot calculate tax.\n"
          ]
        }
      ]
    },
    {
      "cell_type": "code",
      "source": [
        "sentence = [\"the\", \"quick\", \"brown\", \"fox\", \"jumped\", \"over\", \"the\",\n",
        "\"lazy\", \"dog\"]\n",
        "\n",
        "for element in sentence:\n",
        "    print(element);"
      ],
      "metadata": {
        "colab": {
          "base_uri": "https://localhost:8080/"
        },
        "id": "9B8USyo8BKQ1",
        "outputId": "04846501-be48-4419-d49e-daa99bceedb1"
      },
      "execution_count": 11,
      "outputs": [
        {
          "output_type": "stream",
          "name": "stdout",
          "text": [
            "the\n",
            "quick\n",
            "brown\n",
            "fox\n",
            "jumped\n",
            "over\n",
            "the\n",
            "lazy\n",
            "dog\n"
          ]
        }
      ]
    },
    {
      "cell_type": "code",
      "source": [
        "\n",
        "number_list = list(range(1, 31))\n",
        "\n",
        "\n",
        "multiples_of_5 = [num for num in number_list if num % 5 == 0 ]\n",
        "\n",
        "# Display the multiples of 5\n",
        "\n",
        "print(multiples_of_5);"
      ],
      "metadata": {
        "colab": {
          "base_uri": "https://localhost:8080/"
        },
        "id": "He_xZrUTBSCx",
        "outputId": "b747fa92-933f-4a02-a6cf-0eb860778fec"
      },
      "execution_count": 12,
      "outputs": [
        {
          "output_type": "stream",
          "name": "stdout",
          "text": [
            "[5, 10, 15, 20, 25, 30]\n"
          ]
        }
      ]
    },
    {
      "cell_type": "code",
      "source": [
        "\n",
        "names = [ \"Daniyal\", \"Saifullah\", \"20SW107\", \"20SW119\"]\n",
        "first_names = [name.split()[0].lower() for name in names]\n",
        "print(first_names)\n",
        "\n"
      ],
      "metadata": {
        "colab": {
          "base_uri": "https://localhost:8080/"
        },
        "id": "8HQkhCYrBVws",
        "outputId": "a66ab29c-015b-4ef7-a6c1-24884ed63ec9"
      },
      "execution_count": 14,
      "outputs": [
        {
          "output_type": "stream",
          "name": "stdout",
          "text": [
            "['daniyal', 'saifullah', '20sw107', '20sw119']\n"
          ]
        }
      ]
    },
    {
      "cell_type": "code",
      "source": [
        "\n",
        "\n",
        "multiples_3 = [num * 3 for num in range(1, 21)]\n",
        "print(multiples_3)\n",
        "\n",
        "\n"
      ],
      "metadata": {
        "colab": {
          "base_uri": "https://localhost:8080/"
        },
        "id": "2Ynbo1ngBYcp",
        "outputId": "16460761-dcf7-466a-8a9f-1b4de944c89d"
      },
      "execution_count": 15,
      "outputs": [
        {
          "output_type": "stream",
          "name": "stdout",
          "text": [
            "[3, 6, 9, 12, 15, 18, 21, 24, 27, 30, 33, 36, 39, 42, 45, 48, 51, 54, 57, 60]\n"
          ]
        }
      ]
    },
    {
      "cell_type": "code",
      "source": [
        "\n",
        "scores = {\n",
        "    \"Daniyal\": 70,\n",
        "    \"Saif\": 35,\n",
        "    \"20SW107\": 82,\n",
        "    \"20SW119\": 93,\n",
        "    \"Unknown\": 98\n",
        "}\n",
        "\n",
        "passed = [name if score >= 65 else name + \" (Failed)\" for name, score in scores.items()]\n",
        "print(passed);"
      ],
      "metadata": {
        "colab": {
          "base_uri": "https://localhost:8080/"
        },
        "id": "SD71lPxtBreW",
        "outputId": "8e992e41-bd0d-402a-a4f9-40c65ab32e6d"
      },
      "execution_count": 16,
      "outputs": [
        {
          "output_type": "stream",
          "name": "stdout",
          "text": [
            "['Daniyal', 'Saif (Failed)', '20SW107', '20SW119', 'Unknown']\n"
          ]
        }
      ]
    },
    {
      "cell_type": "code",
      "source": [
        "cast_names = [\"Awan\", \"Shaikh\", \"Awan\", \"Shaikh\", \"Arain\"]\n",
        "cast_heights = [72, 68, 72, 66, 76]\n",
        "\n",
        "cast = dict(zip(cast_names, cast_heights))\n",
        "print(cast)\n"
      ],
      "metadata": {
        "colab": {
          "base_uri": "https://localhost:8080/"
        },
        "id": "b09IoqZzB7sA",
        "outputId": "96e97845-92e2-4c66-bd46-7bcbab2e3272"
      },
      "execution_count": 17,
      "outputs": [
        {
          "output_type": "stream",
          "name": "stdout",
          "text": [
            "{'Awan': 72, 'Shaikh': 66, 'Arain': 76}\n"
          ]
        }
      ]
    },
    {
      "cell_type": "code",
      "source": [
        "cast = [\"Awan\", \"Shaikh\", \"Awan\", \"Shaikh\", \"Arain\"]\n",
        "heights = [72, 68, 72, 66, 76]\n",
        "\n",
        "for index, name in enumerate(cast):\n",
        "    cast[index] = name + str(heights[index])\n",
        "\n",
        "print(cast)"
      ],
      "metadata": {
        "colab": {
          "base_uri": "https://localhost:8080/"
        },
        "id": "P1C8V034COA9",
        "outputId": "10e55e3c-af96-4279-fa36-a4f598bcb66a"
      },
      "execution_count": 18,
      "outputs": [
        {
          "output_type": "stream",
          "name": "stdout",
          "text": [
            "['Awan72', 'Shaikh68', 'Awan72', 'Shaikh66', 'Arain76']\n"
          ]
        }
      ]
    }
  ]
}