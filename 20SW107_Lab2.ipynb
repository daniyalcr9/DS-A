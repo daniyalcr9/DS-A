{
  "cells": [
    {
      "cell_type": "code",
      "execution_count": null,
      "metadata": {
        "colab": {
          "base_uri": "https://localhost:8080/"
        },
        "id": "p2r8tRXmK2V_",
        "outputId": "b0b6e329-de99-48ed-bb76-e2abfc6de60a"
      },
      "outputs": [
        {
          "name": "stdout",
          "output_type": "stream",
          "text": [
            "daniyalawancr9\n"
          ]
        }
      ],
      "source": [
        "student = {\n",
        "    \"name\" : \"Daniyal\",\n",
        "    \"age\" : 20,\n",
        "    \"degree\" : \"BE\",\n",
        "    \"field\" : \"Software\",\n",
        "    \"email\" : \"daniyalawancr9\"\n",
        "}\n",
        "\n",
        "print(student[\"email\"])"
      ]
    },
    {
      "cell_type": "code",
      "execution_count": 2,
      "metadata": {
        "colab": {
          "base_uri": "https://localhost:8080/"
        },
        "id": "EDn4uB4BMVfW",
        "outputId": "1d3e3a8b-d732-4900-eb8d-0fceb28a3c1f"
      },
      "outputs": [
        {
          "name": "stdout",
          "output_type": "stream",
          "text": [
            "['November 13, 2012', 'March 20, 2015', 'March 9, 2016']\n"
          ]
        }
      ],
      "source": [
        "eclipse_dates = ['June 21, 2001', 'December 4, 2002', 'November 23, 2003',\n",
        "                 'March 29, 2006', 'August 1, 2008', 'July 22, 2009',\n",
        "                 'July 11, 2010', 'November 13, 2012', 'March 20, 2015',\n",
        "                 'March 9, 2016']\n",
        "print(eclipse_dates[-3:])"
      ]
    },
    {
      "cell_type": "code",
      "execution_count": 4,
      "metadata": {
        "colab": {
          "base_uri": "https://localhost:8080/"
        },
        "id": "-ty_Ay_DMcx5",
        "outputId": "d998012d-173e-4dbf-df9d-66ffdf0689fb"
      },
      "outputs": [
        {
          "name": "stdout",
          "output_type": "stream",
          "text": [
            "['June 21, 2001', 'December 4, 2002', 'November 23, 2003', 'March 29, 2006', 'August 1, 2008', 'July 22, 2009', 'July 11, 2010', 'November 13, 2012', 'March 20, 2015', 'March 9, 2016']\n"
          ]
        }
      ],
      "source": [
        "eclipse_dates = ['June 21, 2001', 'December 4, 2002', 'November 23, 2003',\n",
        " 'March 29, 2006', 'August 1, 2008', 'July 22, 2009',\n",
        " 'July 11, 2010', 'November 13, 2012', 'March 20, 2015',\n",
        " 'March 9, 2016']\n",
        "\n",
        "\n",
        "# TODO: Modify this line so it prints the last three elements of the\n",
        "list\n",
        "print(eclipse_dates)"
      ]
    },
    {
      "cell_type": "code",
      "execution_count": 5,
      "metadata": {
        "colab": {
          "base_uri": "https://localhost:8080/"
        },
        "id": "GHQlLzeWM2Dd",
        "outputId": "30a89047-0c78-4789-d50a-739b466623d2"
      },
      "outputs": [
        {
          "name": "stdout",
          "output_type": "stream",
          "text": [
            "31\n",
            "28\n",
            "31\n",
            "30\n",
            "31\n",
            "30\n",
            "31\n",
            "31\n",
            "30\n",
            "31\n",
            "30\n",
            "31\n",
            "this month has 28 days\n"
          ]
        }
      ],
      "source": [
        "month = 8\n",
        "days_in_month = [31,28,31,30,31,30,31,31,30,31,30,31]\n",
        "for num_days in days_in_month:\n",
        "    print(num_days)\n",
        "\n",
        "print(f\"this month has {days_in_month[1]} days\")"
      ]
    },
    {
      "cell_type": "code",
      "execution_count": 6,
      "metadata": {
        "colab": {
          "base_uri": "https://localhost:8080/"
        },
        "id": "oCtoHpb4M922",
        "outputId": "19f3e932-a1ae-4221-e20d-3296167c5325"
      },
      "outputs": [
        {
          "name": "stdout",
          "output_type": "stream",
          "text": [
            "HELLO\n",
            "world\n",
            "Hello world\n",
            "['Hello', 'World']\n",
            "Hello,World\n",
            "True\n",
            "True\n",
            "True\n",
            "True\n"
          ]
        }
      ],
      "source": [
        "string = \"hello\"\n",
        "print(string.upper())\n",
        "\n",
        "string = \"WORLD\"\n",
        "print(string.lower())\n",
        "\n",
        "string = \"hello world\"\n",
        "print(string.capitalize())\n",
        "\n",
        "string = \"Hello,World\"\n",
        "print(string.split(\",\"))\n",
        "\n",
        "string_list = [\"Hello\", \"World\"]\n",
        "print(\",\".join(string_list))\n",
        "\n",
        "string = \"12345\"\n",
        "print(string.isdigit())\n",
        "\n",
        "string = \"Hello\"\n",
        "print(string.isalpha())\n",
        "\n",
        "string = \"hello\"\n",
        "print(string.islower())\n",
        "\n",
        "string = \"WORLD\"\n",
        "print(string.isupper())\n",
        "\n"
      ]
    },
    {
      "cell_type": "code",
      "execution_count": 7,
      "metadata": {
        "colab": {
          "base_uri": "https://localhost:8080/"
        },
        "id": "aK8jyXRfNHCl",
        "outputId": "e886189b-b5b2-4235-ba7a-8ab960f85cd8"
      },
      "outputs": [
        {
          "name": "stdout",
          "output_type": "stream",
          "text": [
            "my age is 20\n"
          ]
        }
      ],
      "source": [
        "age = 20\n",
        "print(f\"my age is {age}\")"
      ]
    },
    {
      "cell_type": "code",
      "execution_count": null,
      "metadata": {
        "id": "U8YrZoS4M-oz"
      },
      "outputs": [],
      "source": []
    }
  ],
  "metadata": {
    "colab": {
      "provenance": []
    },
    "kernelspec": {
      "display_name": "Python 3",
      "name": "python3"
    },
    "language_info": {
      "name": "python"
    }
  },
  "nbformat": 4,
  "nbformat_minor": 0
}
