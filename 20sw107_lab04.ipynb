{
  "nbformat": 4,
  "nbformat_minor": 0,
  "metadata": {
    "colab": {
      "provenance": [],
      "authorship_tag": "ABX9TyNB/Rp3WdPdwaz/Fk+zyveR",
      "include_colab_link": true
    },
    "kernelspec": {
      "name": "python3",
      "display_name": "Python 3"
    },
    "language_info": {
      "name": "python"
    }
  },
  "cells": [
    {
      "cell_type": "markdown",
      "metadata": {
        "id": "view-in-github",
        "colab_type": "text"
      },
      "source": [
        "<a href=\"https://colab.research.google.com/github/daniyalcr9/SDandA/blob/main/20sw107_lab04.ipynb\" target=\"_parent\"><img src=\"https://colab.research.google.com/assets/colab-badge.svg\" alt=\"Open In Colab\"/></a>"
      ]
    },
    {
      "cell_type": "code",
      "execution_count": 1,
      "metadata": {
        "colab": {
          "base_uri": "https://localhost:8080/"
        },
        "id": "5e5IeTA7XgBR",
        "outputId": "d7251d16-8c93-421e-eccb-7210b6fa7f4a"
      },
      "outputs": [
        {
          "output_type": "stream",
          "name": "stdout",
          "text": [
            "[[ 2  4  6  8]\n",
            " [10 12 14 16]\n",
            " [18 20 22 24]\n",
            " [26 28 30 32]]\n"
          ]
        }
      ],
      "source": [
        "#task1\n",
        "import numpy as np\n",
        "\n",
        "# Using np.arange to generate an array of even numbers from 2 to 32 (inclusive)\n",
        "even_numbers = np.arange(2, 33, 2)\n",
        "\n",
        "# Reshape the even_numbers array into a 4x4 ndarray\n",
        "X = even_numbers.reshape(4,4)\n",
        "\n",
        "print(X)"
      ]
    },
    {
      "cell_type": "code",
      "source": [
        "#task 2\n",
        "import numpy as np\n",
        "\n",
        "# Create a 5 x 5 ndarray with consecutive integers from 1 to 25\n",
        "X = np.arange(1, 26).reshape(5, 5)\n",
        "\n",
        "# Use Boolean indexing to pick out only the odd numbers in the array\n",
        "Y = X[X % 2 != 0]\n",
        "\n",
        "print(\"Original Array X:\")\n",
        "print(X)\n",
        "print(\"\\nArray Y with Odd Numbers:\")\n",
        "print(Y)\n"
      ],
      "metadata": {
        "colab": {
          "base_uri": "https://localhost:8080/"
        },
        "id": "_KljJamQXxjy",
        "outputId": "f9253116-04c4-4168-af1b-49e6cf23684c"
      },
      "execution_count": 2,
      "outputs": [
        {
          "output_type": "stream",
          "name": "stdout",
          "text": [
            "Original Array X:\n",
            "[[ 1  2  3  4  5]\n",
            " [ 6  7  8  9 10]\n",
            " [11 12 13 14 15]\n",
            " [16 17 18 19 20]\n",
            " [21 22 23 24 25]]\n",
            "\n",
            "Array Y with Odd Numbers:\n",
            "[ 1  3  5  7  9 11 13 15 17 19 21 23 25]\n"
          ]
        }
      ]
    },
    {
      "cell_type": "code",
      "source": [
        "#task3\n",
        "import numpy as np\n",
        "\n",
        "# Use Broadcasting to create the desired ndarray\n",
        "X = np.arange(1, 5).reshape(4, 1) * np.ones((1, 4))\n",
        "\n",
        "print(X)\n"
      ],
      "metadata": {
        "colab": {
          "base_uri": "https://localhost:8080/"
        },
        "id": "fQYvfh8AX1CX",
        "outputId": "c0211981-c7e4-4055-c0be-ac1fcb61eea1"
      },
      "execution_count": 3,
      "outputs": [
        {
          "output_type": "stream",
          "name": "stdout",
          "text": [
            "[[1. 1. 1. 1.]\n",
            " [2. 2. 2. 2.]\n",
            " [3. 3. 3. 3.]\n",
            " [4. 4. 4. 4.]]\n"
          ]
        }
      ]
    }
  ]
}